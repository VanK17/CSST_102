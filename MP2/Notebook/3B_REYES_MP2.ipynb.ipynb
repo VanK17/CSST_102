{
  "nbformat": 4,
  "nbformat_minor": 0,
  "metadata": {
    "colab": {
      "provenance": []
    },
    "kernelspec": {
      "name": "python3",
      "display_name": "Python 3"
    },
    "language_info": {
      "name": "python"
    }
  },
  "cells": [
    {
      "cell_type": "markdown",
      "source": [
        "# **Machine Problem 2: Implementing a Logical Based-Model in Python**\n",
        "\n",
        "\n",
        "### Name: Vanesse V. Reyes\n",
        "### Section: BSCS - 3B\n",
        "### Course: CCST 101 | Advance Representation and Reasoning\n",
        "\n",
        "\n"
      ],
      "metadata": {
        "id": "JPpdPlxhlqTa"
      }
    },
    {
      "cell_type": "code",
      "source": [
        "#@title **Propositional logic Operation**\n",
        "\n",
        "# Logical AND (∧)\n",
        "def logical_and(p, q):\n",
        "    \"\"\"\n",
        "    Apply logical conjunction (AND) between two inputs\n",
        "\n",
        "    :param p: bool, first argument.\n",
        "    :param q: bool, second argument.\n",
        "    :return: bool, the result of p AND q.\n",
        "    \"\"\"\n",
        "    return p and q\n",
        "\n",
        "# Logical OR (∨)\n",
        "def logical_or(p, q):\n",
        "    \"\"\"\n",
        "    Apply logical disjunction (OR) between two inputs\n",
        "\n",
        "    :param p: bool, first argument.\n",
        "    :param q: bool, second argument.\n",
        "    :return: bool, the result of p OR q.\n",
        "    \"\"\"\n",
        "    if p:\n",
        "        return True\n",
        "    return q\n",
        "\n",
        "# Logical NOT (¬)\n",
        "def logical_not(p):\n",
        "    \"\"\"\n",
        "    Apply logical negation (NOT) to the input.\n",
        "\n",
        "    :param p: bool, the input value.\n",
        "    :return: bool, the negation of p.\n",
        "    \"\"\"\n",
        "    return False if p else True\n",
        "\n",
        "# Logical IMPLIES (→)\n",
        "def logical_implies(p, q):\n",
        "    \"\"\"\n",
        "    Apply logical implication (p → q).\n",
        "\n",
        "    :param p: bool, the premise.\n",
        "    :param q: bool, the conclusion.\n",
        "    :return: bool, the result of p IMPLIES q.\n",
        "    \"\"\"\n",
        "    return logical_not(p) or q"
      ],
      "metadata": {
        "id": "mtrVnN78mzRP"
      },
      "execution_count": null,
      "outputs": []
    },
    {
      "cell_type": "code",
      "source": [
        "#@title **1. Logical Operations (Alternative Example)**\n",
        "#@markdown # **Input Values:**\n",
        "first_value = \"True\" #@param [\"True\"] {allow-input: false}\n",
        "p_input = first_value\n",
        "second_value = \"False\" #@param [\"False\"] {allow-input: false}\n",
        "q_input = second_value\n",
        "\n",
        "#@markdown - ### Expected Results:\n",
        "#@markdown  - AND : False\n",
        "#@markdown  - OR : True\n",
        "#@markdown  - NOT first_value : False\n",
        "#@markdown  - IMPLIES : False\n",
        "\n",
        "# Convert the string inputs to booleans\n",
        "p = p_input == \"True\"\n",
        "q = q_input == \"True\"\n",
        "\n",
        "# Output results of logical operations\n",
        "print(\"AND Result:\", logical_and(p, q))        # False\n",
        "print(\"OR Result:\", logical_or(p, q))          # True\n",
        "print(\"NOT first_value:\", logical_not(p))      # False\n",
        "print(\"IMPLIES Result:\", logical_implies(p, q))# False"
      ],
      "metadata": {
        "colab": {
          "base_uri": "https://localhost:8080/"
        },
        "id": "pTRryXTdqA4B",
        "outputId": "cc331f8e-2ad4-45e2-8a0f-cfa365beb605"
      },
      "execution_count": null,
      "outputs": [
        {
          "output_type": "stream",
          "name": "stdout",
          "text": [
            "AND Result: False\n",
            "OR Result: True\n",
            "NOT first_value: False\n",
            "IMPLIES Result: False\n"
          ]
        }
      ]
    },
    {
      "cell_type": "code",
      "source": [
        "#@title **2. Evaluate Logical Statements**\n",
        "\n",
        "import re\n",
        "\n",
        "def evaluate_expression(logic_expr, var_mapping):\n",
        "    \"\"\"\n",
        "    Evaluates a logical expression by replacing variables with their corresponding\n",
        "    boolean values and adjusting the logical operators to match Python's syntax.\n",
        "\n",
        "    :param logic_expr: str, the logical expression to be evaluated (e.g., \"A AND B OR NOT C\").\n",
        "    :param var_mapping: dict, a mapping of variables (e.g., 'A', 'B') to their boolean values (True/False).\n",
        "    :return: bool, the result of evaluating the logical expression.\n",
        "    \"\"\"\n",
        "    # Replace each variable in the expression with its corresponding boolean value\n",
        "    for key, value in var_mapping.items():\n",
        "        # Use regular expressions to ensure that only full variable names are replaced\n",
        "        logic_expr = re.sub(rf'\\b{key}\\b', str(value), logic_expr)\n",
        "\n",
        "    # Convert logical operators from string format to Python's syntax\n",
        "    logic_expr = logic_expr.replace('AND', 'and').replace('OR', 'or').replace('NOT', 'not')\n",
        "\n",
        "    try:\n",
        "        # Evaluate the modified expression and return the result\n",
        "        return eval(logic_expr)\n",
        "    except Exception as ex:\n",
        "        # Handle any errors during evaluation and provide feedback\n",
        "        print(f\"Error during evaluation: {ex}\")\n",
        "        return None"
      ],
      "metadata": {
        "id": "WraZjPa2qPsP"
      },
      "execution_count": null,
      "outputs": []
    },
    {
      "cell_type": "code",
      "source": [
        "#@title 2. **Evaluate Logical Statements (Example)**\n",
        "\n",
        "#@markdown # **Input Data:**\n",
        "first_val = \"True\" #@param [\"True\"] {allow-input: false}\n",
        "second_val = \"False\" #@param [\"False\"] {allow-input: false}\n",
        "third_val = \"True\" #@param [\"True\"] {allow-input: false}\n",
        "#@markdown - Expected result: FALSE\n",
        "\n",
        "# Logical expression and corresponding truth values\n",
        "expr = \"(first and second) or not third\"\n",
        "truth_values = {'first': True, 'second': False, 'third': True}\n",
        "\n",
        "# Process the logical expression\n",
        "print(\"Result of Expression:\", evaluate_expression(expr, truth_values))  # Expected result: False"
      ],
      "metadata": {
        "colab": {
          "base_uri": "https://localhost:8080/"
        },
        "id": "S84INmFUwJ9A",
        "outputId": "794090f7-15de-4e99-d32b-33c43091303b"
      },
      "execution_count": null,
      "outputs": [
        {
          "output_type": "stream",
          "name": "stdout",
          "text": [
            "Result of Expression: False\n"
          ]
        }
      ]
    },
    {
      "cell_type": "code",
      "source": [
        "#@title **3. Extend Predicate Logic**\n",
        "# Predictive Logic\n",
        "\n",
        "def check_forall(condition, elements):\n",
        "    \"\"\"\n",
        "    Determine if a condition is met for every element in a collection.\n",
        "\n",
        "    :param condition: function, the condition to test on each element.\n",
        "    :param elements: list, collection of elements to check the condition against.\n",
        "    :return: bool, True if the condition is satisfied for all elements.\n",
        "    \"\"\"\n",
        "    return all(condition(element) for element in elements)\n",
        "\n",
        "def check_exists(condition, elements):\n",
        "    \"\"\"\n",
        "    Determine if a condition is met for at least one element in a collection.\n",
        "\n",
        "    :param condition: function, the condition to test on each element.\n",
        "    :param elements: list, collection of elements to check the condition against.\n",
        "    :return: bool, True if the condition is satisfied for at least one element.\n",
        "    \"\"\"\n",
        "    return any(condition(element) for element in elements)"
      ],
      "metadata": {
        "id": "x00Tn6ogr0hl"
      },
      "execution_count": null,
      "outputs": []
    },
    {
      "cell_type": "code",
      "source": [
        "#@title **3. Extend Predicate Logic (Example)**\n",
        "\n",
        "#@markdown # **Set of Values:**\n",
        "item1 = 10 #@param [\"10\"] {allow-input: false}\n",
        "item2 = 20 #@param [\"20\"] {allow-input: false}\n",
        "item3 = 30 #@param [\"30\"] {allow-input: false}\n",
        "item4 = 40 #@param [\"40\"] {allow-input: false}\n",
        "item5 = 50 #@param [\"50\"] {allow-input: false}\n",
        "\n",
        "# Create a list from the individual items\n",
        "values = [item1, item2, item3, item4, item5]\n",
        "\n",
        "# Define a condition to apply\n",
        "check_condition = lambda n: n > 35\n",
        "\n",
        "#@markdown - ### Expected Results:\n",
        "#@markdown  - FOR ALL: FALSE\n",
        "#@markdown  - EXISTS: TRUE\n",
        "\n",
        "# Evaluate the condition for all and some elements\n",
        "print(\"FOR ALL:\", check_forall(check_condition, values)) # False\n",
        "print(\"EXISTS:\", check_exists(check_condition, values))  # True"
      ],
      "metadata": {
        "colab": {
          "base_uri": "https://localhost:8080/"
        },
        "id": "HD_cJPvOulA5",
        "outputId": "ff3d3c00-49d7-4e73-d756-51f772c649eb"
      },
      "execution_count": null,
      "outputs": [
        {
          "output_type": "stream",
          "name": "stdout",
          "text": [
            "FOR ALL: False\n",
            "EXISTS: True\n"
          ]
        }
      ]
    },
    {
      "cell_type": "code",
      "source": [
        "#@title **4. AI Agent Development**\n",
        "\n",
        "#@markdown ## **Choose Scenario:**\n",
        "context = \"personal\" #@param [\"personal\", \"professional\"] {allow-input: true}\n",
        "\n",
        "class DecisionAssistant:\n",
        "    def __init__(self, context):\n",
        "        \"\"\"\n",
        "        Initialize the decision-making assistant with a specific context.\n",
        "\n",
        "        :param context: str, the context for making decisions.\n",
        "        \"\"\"\n",
        "        self.context = context\n",
        "\n",
        "    def determine_action(self, inputs):\n",
        "        \"\"\"\n",
        "        Decide on an action based on the provided inputs and context.\n",
        "\n",
        "        :param inputs: dict, a dictionary of input factors and their values.\n",
        "        :return: str, the determined action based on the context.\n",
        "        \"\"\"\n",
        "        if self.context == \"personal\":\n",
        "            if inputs['urgent_task']:\n",
        "                return \"Prioritize Task\"\n",
        "            elif inputs['available_time']:\n",
        "                return \"Relax\"\n",
        "            else:\n",
        "                return \"Check Schedule\"\n",
        "        elif self.context == \"professional\":\n",
        "            if inputs['meeting_scheduled']:\n",
        "                return \"Prepare for Meeting\"\n",
        "            elif inputs['deadline_approaching']:\n",
        "                return \"Complete Work\"\n",
        "            else:\n",
        "                return \"Plan Next Steps\""
      ],
      "metadata": {
        "id": "P7DyPP_YzNiN"
      },
      "execution_count": null,
      "outputs": []
    },
    {
      "cell_type": "code",
      "source": [
        "#@title **4. AI Agent Development (Example Usage)**\n",
        "#@markdown # **Define the Inputs:**\n",
        "\n",
        "# Define input for \"urgent_task\" in the personal context\n",
        "task_urgent = \"False\"  #@param [\"True\", \"False\"] {allow-input: true}\n",
        "\n",
        "# Define input for \"available_time\" in the personal context\n",
        "time_available = \"True\" #@param [\"True\", \"False\"] {allow-input: true}\n",
        "\n",
        "# Initialize the decision-making assistant\n",
        "assistant = DecisionAssistant(context)\n",
        "\n",
        "# Set inputs based on the chosen context\n",
        "if context == \"personal\":\n",
        "    inputs = {'urgent_task': task_urgent == \"True\", 'available_time': time_available == \"True\"}\n",
        "\n",
        "# Determine and display the assistant's decision\n",
        "print(\"Assistant's Decision:\", assistant.determine_action(inputs))"
      ],
      "metadata": {
        "colab": {
          "base_uri": "https://localhost:8080/"
        },
        "id": "ng04EZKF3T2P",
        "outputId": "dd1cecd6-b66c-41c4-b9f2-aa998e4c8da8"
      },
      "execution_count": null,
      "outputs": [
        {
          "output_type": "stream",
          "name": "stdout",
          "text": [
            "Assistant's Decision: Relax\n"
          ]
        }
      ]
    }
  ]
}