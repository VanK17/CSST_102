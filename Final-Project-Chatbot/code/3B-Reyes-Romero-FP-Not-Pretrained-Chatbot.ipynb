{
  "nbformat": 4,
  "nbformat_minor": 0,
  "metadata": {
    "colab": {
      "provenance": []
    },
    "kernelspec": {
      "name": "python3",
      "display_name": "Python 3"
    },
    "language_info": {
      "name": "python"
    }
  },
  "cells": [
    {
      "cell_type": "code",
      "execution_count": 1,
      "metadata": {
        "id": "wSiP0ycWDZfe"
      },
      "outputs": [],
      "source": [
        "import pandas as pd\n",
        "import re\n",
        "from sklearn.preprocessing import LabelEncoder\n",
        "import tensorflow as tf\n",
        "from tensorflow.keras.models import load_model\n",
        "\n",
        "# Load the dataset\n",
        "file_path = \"carlsen_games_moves.csv\"  # Update this with your dataset file path\n",
        "chess_data = pd.read_csv(file_path)\n",
        "\n",
        "# Recreate Tokenizer\n",
        "tokenizer = tf.keras.preprocessing.text.Tokenizer()\n",
        "tokenizer.fit_on_texts(chess_data['move_sequence'])\n",
        "\n",
        "# Recreate LabelEncoder\n",
        "label_encoder = LabelEncoder()\n",
        "label_encoder.fit(chess_data['notation'])\n",
        "\n",
        "# Load the pre-trained Keras model\n",
        "model = load_model('chess_tactics_chatbot.keras')"
      ]
    },
    {
      "cell_type": "code",
      "source": [
        "def chess_advisor(moves, model, tokenizer, label_encoder):\n",
        "    \"\"\"\n",
        "    Predicts the next best move given a list of chess moves.\n",
        "    \"\"\"\n",
        "    # Join moves to create a sequence\n",
        "    move_sequence = '|'.join(moves)\n",
        "\n",
        "    # Tokenize and pad the input sequence\n",
        "    sequence = tokenizer.texts_to_sequences([move_sequence])\n",
        "    sequence_padded = tf.keras.preprocessing.sequence.pad_sequences(\n",
        "        sequence, maxlen=model.input_shape[1], padding='post'\n",
        "    )\n",
        "\n",
        "    # Predict the next move\n",
        "    prediction = model.predict(sequence_padded)\n",
        "    recommended_move = label_encoder.inverse_transform([tf.argmax(prediction[0]).numpy()])\n",
        "\n",
        "    return recommended_move[0]"
      ],
      "metadata": {
        "id": "3Scvfvy5DbkH"
      },
      "execution_count": 2,
      "outputs": []
    },
    {
      "cell_type": "code",
      "source": [
        "def interactive_chatbot(model, tokenizer, label_encoder):\n",
        "    \"\"\"Interactive chatbot for chess move prediction with dynamic input parsing.\"\"\"\n",
        "    print(\"Chatbot: Good day! I will try my best to predict chess moves based on your setting!\")\n",
        "    print(\"Type 'exit' to end the chat.\")\n",
        "\n",
        "    while True:\n",
        "        user_input = input(\"User: \")\n",
        "        if user_input.lower() == \"exit\":\n",
        "            print(\"Chatbot: Thank you for chatting! Goodbye!\")\n",
        "            break\n",
        "\n",
        "        # Extract moves from the user's input dynamically\n",
        "        moves = extract_moves(user_input)\n",
        "        if moves:\n",
        "            print(f\"Chatbot: Analyzing the moves: {moves}\")\n",
        "            # Predict the next move\n",
        "            try:\n",
        "                next_move = chess_advisor(moves, model, tokenizer, label_encoder)\n",
        "                print(f\"Chatbot: I can predict that the best next move is {next_move}.\")\n",
        "            except Exception as e:\n",
        "                print(f\"Chatbot: An error occurred: {e}\")\n",
        "        else:\n",
        "            print(\"Chatbot: Sorry, I couldn't extract valid moves. Please provide a valid sequence of moves.\")"
      ],
      "metadata": {
        "id": "LuMii3IzDdcw"
      },
      "execution_count": 3,
      "outputs": []
    },
    {
      "cell_type": "code",
      "source": [
        "def extract_moves(user_input):\n",
        "    \"\"\"Extract chess moves dynamically from user input.\"\"\"\n",
        "    # Updated regex to handle moves with punctuation and spaces\n",
        "    moves_pattern = r'\\b(?:[KQBNR]?[a-h]?[1-8]?[x-]?[a-h][1-8]|O-O(?:-O)?)\\b'\n",
        "    # Find all matches, strip spaces, and return as a list\n",
        "    moves = re.findall(moves_pattern, user_input)\n",
        "    return [move.strip() for move in moves if move.strip()]"
      ],
      "metadata": {
        "id": "5jtso2l7DfG2"
      },
      "execution_count": 4,
      "outputs": []
    },
    {
      "cell_type": "code",
      "source": [
        "interactive_chatbot(model, tokenizer, label_encoder)"
      ],
      "metadata": {
        "colab": {
          "base_uri": "https://localhost:8080/"
        },
        "id": "0tcr3NyqDh6m",
        "outputId": "78c97b6c-c671-4ae4-983a-44056a549d50"
      },
      "execution_count": 5,
      "outputs": [
        {
          "output_type": "stream",
          "name": "stdout",
          "text": [
            "Chatbot: Good day! I will try my best to predict chess moves based on your setting!\n",
            "Type 'exit' to end the chat.\n",
            "User: Predict the next move if the moves are e7, Nf6, c4, Nc6, g3, e6, and Nc3\n",
            "Chatbot: Analyzing the moves: ['e7', 'Nf6', 'c4', 'Nc6', 'g3', 'e6', 'Nc3']\n",
            "\u001b[1m1/1\u001b[0m \u001b[32m━━━━━━━━━━━━━━━━━━━━\u001b[0m\u001b[37m\u001b[0m \u001b[1m1s\u001b[0m 636ms/step\n",
            "Chatbot: I can predict that the best next move is O-O.\n",
            "User: exit\n",
            "Chatbot: Thank you for chatting! Goodbye!\n"
          ]
        }
      ]
    }
  ]
}