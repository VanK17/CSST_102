{
  "nbformat": 4,
  "nbformat_minor": 0,
  "metadata": {
    "colab": {
      "provenance": [],
      "gpuType": "V28"
    },
    "kernelspec": {
      "name": "python3",
      "display_name": "Python 3"
    },
    "language_info": {
      "name": "python"
    },
    "accelerator": "TPU"
  },
  "cells": [
    {
      "cell_type": "code",
      "execution_count": null,
      "metadata": {
        "id": "9YJlIoaQzAtb"
      },
      "outputs": [],
      "source": [
        "# Install required libraries\n",
        "!pip install pandas scikit-learn tensorflow\n",
        "\n",
        "# Import necessary libraries\n",
        "import pandas as pd\n",
        "import tensorflow as tf\n",
        "from tensorflow.keras.models import Sequential, load_model\n",
        "from tensorflow.keras.layers import Embedding, LSTM, Dense, Dropout\n",
        "from tensorflow.keras.callbacks import ModelCheckpoint, BackupAndRestore, EarlyStopping\n",
        "from tensorflow.keras.optimizers import Adam\n",
        "from sklearn.model_selection import train_test_split\n",
        "from sklearn.preprocessing import LabelEncoder\n",
        "import os\n",
        "from google.colab import files\n",
        "\n",
        "# Load chess game data\n",
        "file_path = 'carlsen_games_moves.csv'  # Update with the actual file path\n",
        "chess_data = pd.read_csv(file_path)\n",
        "\n",
        "# Preprocessing the data\n",
        "# Extract features (move_sequence) and labels (notation)\n",
        "X = chess_data['move_sequence']\n",
        "y = chess_data['notation']\n",
        "\n",
        "# Encode labels\n",
        "label_encoder = LabelEncoder()\n",
        "y_encoded = label_encoder.fit_transform(y)\n",
        "\n",
        "# Tokenize move sequences\n",
        "tokenizer = tf.keras.preprocessing.text.Tokenizer()\n",
        "tokenizer.fit_on_texts(X)\n",
        "X_tokenized = tokenizer.texts_to_sequences(X)\n",
        "X_padded = tf.keras.preprocessing.sequence.pad_sequences(X_tokenized, padding='post')\n",
        "\n",
        "# Split the data into training and testing sets\n",
        "X_train, X_test, y_train, y_test = train_test_split(X_padded, y_encoded, test_size=0.2, random_state=42)"
      ]
    },
    {
      "cell_type": "code",
      "source": [
        "# Define the model\n",
        "model = Sequential([\n",
        "    Embedding(input_dim=len(tokenizer.word_index) + 1, output_dim=256),\n",
        "    LSTM(256, return_sequences=True),\n",
        "    Dropout(0.3),\n",
        "    LSTM(256),\n",
        "    Dropout(0.3),\n",
        "    Dense(256, activation='relu'),\n",
        "    Dense(len(label_encoder.classes_), activation='softmax')\n",
        "])\n",
        "\n",
        "# Build the model explicitly to avoid the BackupAndRestore error\n",
        "model.build(input_shape=(None, X_padded.shape[1]))\n",
        "\n",
        "# Recompile the model after building\n",
        "model.compile(optimizer=Adam(learning_rate=0.0001), loss='sparse_categorical_crossentropy', metrics=['accuracy'])\n",
        "\n",
        "# Set up a backup and restore mechanism\n",
        "backup_dir = './backup'\n",
        "os.makedirs(backup_dir, exist_ok=True)\n",
        "backup_and_restore = BackupAndRestore(backup_dir)\n",
        "\n",
        "# Train the model with checkpointing and backup\n",
        "history = model.fit(\n",
        "    X_train,\n",
        "    y_train,\n",
        "    epochs=1,\n",
        "    validation_data=(X_test, y_test),\n",
        "    batch_size=128,\n",
        "    callbacks=[backup_and_restore]\n",
        ")\n",
        "\n",
        "# Save the final model\n",
        "model.save('chess_tactics_chatbot.keras')\n",
        "\n",
        "# Automatically download the model\n",
        "files.download('chess_tactics_chatbot.keras')"
      ],
      "metadata": {
        "id": "FHEWXZvlzPdg"
      },
      "execution_count": null,
      "outputs": []
    }
  ]
}