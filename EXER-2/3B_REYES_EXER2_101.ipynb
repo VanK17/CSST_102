{
  "nbformat": 4,
  "nbformat_minor": 0,
  "metadata": {
    "colab": {
      "provenance": []
    },
    "kernelspec": {
      "name": "python3",
      "display_name": "Python 3"
    },
    "language_info": {
      "name": "python"
    }
  },
  "cells": [
    {
      "cell_type": "markdown",
      "source": [
        "- **Name:** Vanesse V. Reyes\n",
        "- **Section:** BSCS - 3B\n",
        "- **Course:** CSST 101 - Advance Knowledge Representation\n",
        "- **Topic:** Topic 2.1 Introduction to Probability AI\n",
        "\n",
        "\n",
        "\n",
        "# **Laboratory Exercise #2**\n",
        "\n"
      ],
      "metadata": {
        "id": "VTvz3uxa01lN"
      }
    },
    {
      "cell_type": "code",
      "source": [
        "#@title # **Exercise 1: Introduction to Probability Theory in AI**\n",
        "\n",
        "\n",
        "def joint_probability(p_A, p_B):\n",
        "  return p_A * p_B\n",
        "\n",
        "def marginal_probability(p_A, p_B):\n",
        "  return p_A + p_B - joint_probability(p_A, p_B)\n",
        "\n",
        "def conditional_probability(p_B_given_A, p_A, p_B):\n",
        "  return (p_B_given_A * p_A) / p_B\n",
        "\n",
        "\n",
        "# Example Usage\n",
        "\n",
        "  p_A = 0.3\n",
        "  p_B = 0.4\n",
        "  p_B_given_A = 0.8\n",
        "\n",
        "  print(f\"Join Probability: {joint_probability(p_A, p_B)}\")\n",
        "  print(f\"Marginal Probability: {marginal_probability(p_A, p_B)}\")\n",
        "  print(f\"Conditional Probability: {conditional_probability(p_A, p_B)}\")"
      ],
      "metadata": {
        "id": "BgtCUvcb1pkl"
      },
      "execution_count": null,
      "outputs": []
    },
    {
      "cell_type": "code",
      "source": [
        "#@ # **title Exercise 2: Decision Making Under Certainty**\n",
        "\n",
        "import numpy as np\n",
        "\n",
        "\n",
        "def simulate_decision(num_simulations, p_success, reward_success, reward_failure):\n",
        "  outcomes = []\n",
        "  for _ in range(num_simulations):\n",
        "    if np.random.rand()< p_success:\n",
        "      outcomes.append(reward_success)\n",
        "    else:\n",
        "      outcomes.append(reward_failure)\n",
        "  return np.mean(outcomes)\n",
        "\n",
        "\n",
        "# Example: Simulating 1000 decision attempts\n",
        "p_success = 0.7 # probability of success\n",
        "reward_success = 1000 # reward for success\n",
        "reward_failure = -500 # penalty for failure\n",
        "\n",
        "average_outcome = simulate_decision(1000, p_success, reward_success, reward_failure)\n",
        "print(f\"Expected value of decision: {average_outcome}\")"
      ],
      "metadata": {
        "colab": {
          "base_uri": "https://localhost:8080/"
        },
        "id": "BMe_7wyk3q-8",
        "outputId": "5e3a6c01-665f-4df4-c81c-a3bbf9a6b7f0"
      },
      "execution_count": null,
      "outputs": [
        {
          "output_type": "stream",
          "name": "stdout",
          "text": [
            "Expected value of decision: 541.0\n"
          ]
        }
      ]
    },
    {
      "cell_type": "code",
      "source": [
        "#@title # **Applying Probability theory in AI for Diagnosis**\n",
        "\n",
        "def bayesian_inference(prior, prior_likelihood_positive_given_disease, likelihood_positive):\n",
        "  posterior = (likelihood_positive_given_disease * prior) / likelihood_positive\n",
        "  return posterior\n",
        "\n",
        "\n",
        "# Example probabilities\n",
        "\n",
        "prior_disease = 0.01\n",
        "likelihood_positive_given_disease = 0.9\n",
        "likelihood_positive = 0.05\n",
        "\n",
        "\n",
        "posterior_disease = bayesian_inference(prior_disease, likelihood_positive_given_disease, likelihood_positive)\n",
        "print(f\"Posterior probability of disease given positive test: {posterior_disease}\")\n"
      ],
      "metadata": {
        "id": "j86KLnZq7mfF",
        "colab": {
          "base_uri": "https://localhost:8080/"
        },
        "outputId": "da96e074-0d50-48f6-a098-f8fe5b32d921"
      },
      "execution_count": null,
      "outputs": [
        {
          "output_type": "stream",
          "name": "stdout",
          "text": [
            "Posterior probability of disease given positive test: 0.18000000000000002\n"
          ]
        }
      ]
    },
    {
      "cell_type": "code",
      "source": [
        "# Exercise 5: Real-World Application of Priobability AI\n",
        "\n",
        "p_purchase_given_cart = 0.4\n",
        "p_cart = 0.3\n",
        "\n",
        "\n",
        "\n",
        "p_purchase = conditional_probability(p_purchase_given_cart, p_cart, 1)\n",
        "print(f\"Probability of Purchase: {p_purchase}\")\n"
      ],
      "metadata": {
        "colab": {
          "base_uri": "https://localhost:8080/"
        },
        "id": "rC_Y_jO3i-zB",
        "outputId": "601af785-e6b9-40cf-ed07-7a9b3e3ff26e"
      },
      "execution_count": null,
      "outputs": [
        {
          "output_type": "stream",
          "name": "stdout",
          "text": [
            "Probability of Purchase: 0.12\n"
          ]
        }
      ]
    },
    {
      "cell_type": "code",
      "source": [
        "import numpy as np\n",
        "import matplotlib.pyplot as plt\n",
        "\n",
        "\n",
        "# Simulating a binomial distribution (e.g, flipping a coin)\n",
        "\n",
        "n_trials = 1000\n",
        "p_head = 0.5\n",
        "binomial_distribution = np.random.binomial(n=1, p=p_head, size=n_trials)\n",
        "\n",
        "# plotting the distribution\n",
        "\n",
        "\n",
        "plt.hist(binomial_distribution, bins=2)\n",
        "plt.title('Binomial Distribution (Coin flips)')\n",
        "plt.show()\n"
      ],
      "metadata": {
        "id": "eTPQKoxXrZcS",
        "colab": {
          "base_uri": "https://localhost:8080/",
          "height": 452
        },
        "outputId": "967be8a6-722d-4c4c-9e1f-b1a74ece3e61"
      },
      "execution_count": null,
      "outputs": [
        {
          "output_type": "display_data",
          "data": {
            "text/plain": [
              "<Figure size 640x480 with 1 Axes>"
            ],
            "image/png": "[encoded data removed]"
          },
          "metadata": {}
        }
      ]
    }
  ]
}